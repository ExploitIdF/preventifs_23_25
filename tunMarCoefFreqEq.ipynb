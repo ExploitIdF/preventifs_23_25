{
 "cells": [
  {
   "cell_type": "markdown",
   "id": "5e1f00b9",
   "metadata": {},
   "source": [
    "On veut créer un document qui extrait les formules des références prix du tableau de Fanny, et où l'on peut mettre une colonne des coéfficients pour chaque référence prix extraite, et aussi le nombre équipé et la fréquence totale. Ainsi, on pourra comparer les montants de 2023 et 2025 aux normatives de 2025 au niveau des prix."
   ]
  },
  {
   "cell_type": "code",
   "execution_count": 1,
   "id": "1e7ef028",
   "metadata": {},
   "outputs": [],
   "source": [
    "# Importer les bibliothèques nécessaires\n",
    "import re\n",
    "import pandas as pd\n",
    "from openpyxl import load_workbook\n",
    "import requests\n",
    "from io import BytesIO\n",
    "import numpy as np\n",
    "\n",
    "# Affichage complet dans pandas\n",
    "pd.set_option('display.max_colwidth', None)\n",
    "pd.set_option('display.max_rows', None)\n",
    "pd.set_option('display.max_columns', None)"
   ]
  },
  {
   "cell_type": "code",
   "execution_count": 14,
   "id": "1a90a88d",
   "metadata": {},
   "outputs": [],
   "source": [
    "# Télécharger le fichier Excel depuis l'URL\n",
    "url = 'https://storage.googleapis.com/sucombe-dirif/reference/Tunnels_Cout%20pr%C3%A9ventif_04.04.2024.xlsx'\n",
    "response = requests.get(url)\n",
    "file_stream = BytesIO(response.content)\n",
    "\n",
    "# Charger le fichier Excel avec openpyxl\n",
    "wb = load_workbook(filename=file_stream, data_only=False)\n",
    "ref_sheet = 'Préventifs_tunnels'\n",
    "ref_ws = wb[ref_sheet]"
   ]
  },
  {
   "cell_type": "code",
   "execution_count": 3,
   "id": "3eb06d82",
   "metadata": {},
   "outputs": [],
   "source": [
    "# Liste des feuilles Excel des tunnels\n",
    "tunnel_sheets = [\n",
    "    'Boissy', 'Champigny', 'Guy Môquet', 'Moulin', 'Nogent',\n",
    "    'Ambroise Paré', 'Belle-Rive', 'Chennevières', 'Fontenay', 'La Défense',\n",
    "    'Nanterre Centre', 'Nanterre échangeur', 'Neuilly', 'Saint-Cloud', 'Sévines',\n",
    "    'Bobigny', 'La Courneuve', 'Landy', 'Lumen-Norton', 'Taverny',\n",
    "    'Antony', 'Fresnes', 'Bicêtre', 'Italie', 'Orly',\n",
    "]\n",
    "\n",
    "# Types de marchés recherchés\n",
    "marches = [\"Bâtiment\", \"Propreté\", \"ContReg\", \"Eclairage\", \"AEV\", \"Automate\", \"PAU/TSE\", \"MEC\", \"Onduleur\", \"Détection\", \"Ventilation\", \"Vidéo\", \"Pompage\"]"
   ]
  },
  {
   "cell_type": "code",
   "execution_count": 5,
   "id": "5cd0d26c",
   "metadata": {},
   "outputs": [],
   "source": [
    "# Obtenir la valeur de référence prix depuis l'onglet global 'Préventifs_tunnels'\n",
    "def get_ref_prix(row_num):\n",
    "    try:\n",
    "        val = ref_ws[f\"D{row_num}\"].value\n",
    "        return val if val else f\"MISSING D{row_num}\"\n",
    "    except:\n",
    "        return f\"INVALID D{row_num}\"\n"
   ]
  },
  {
   "cell_type": "code",
   "execution_count": 6,
   "id": "cbde29d7",
   "metadata": {},
   "outputs": [],
   "source": [
    "# Obtenir la valeur de référence prix depuis la feuille de référence\n",
    "def get_ref_prix(row_num):\n",
    "    try:\n",
    "        val = ref_ws[f\"D{row_num}\"].value\n",
    "        return val if val else f\"MISSING D{row_num}\"\n",
    "    except:\n",
    "        return f\"INVALID D{row_num}\"\n"
   ]
  },
  {
   "cell_type": "markdown",
   "id": "4d84f09f",
   "metadata": {},
   "source": [
    "Il faut lire les formules de la colonne G dans l'onglet de chaque tunnel maintenant."
   ]
  },
  {
   "cell_type": "code",
   "execution_count": 7,
   "id": "6cb39c12",
   "metadata": {},
   "outputs": [],
   "source": [
    "# Extraire les détails d'une formule Excel\n",
    "def extract_formula_details(formula):\n",
    "    if re.match(r\"^=\\s*'?.+?!G\\d+$\", formula):\n",
    "        return 'direct', [(formula.split('!G')[-1])], 1.0\n",
    "    elif re.match(r\"^=\\(\\s*'?.+?!G\\d+\\s*\\+\\s*'?.+?!G\\d+\\s*\\)$\", formula):\n",
    "        return 'sum_2', re.findall(r\"G(\\d+)\", formula), 1.0\n",
    "    elif re.match(r\"(?i)^=\\s*SUM\\(\\s*'?.+?!G(\\d+):G(\\d+)\\s*\\)$\", formula):\n",
    "        match = re.search(r\"G(\\d+):G(\\d+)\", formula)\n",
    "        if match:\n",
    "            start, end = int(match.group(1)), int(match.group(2))\n",
    "            return f\"sum_{abs(end - start) + 1}\", [str(i) for i in range(start, end + 1)], 1.0\n",
    "    elif re.match(r\"^=\\(\\s*'?.+?!G\\d+\\s*\\+\\s*'?.+?!G\\d+\\s*\\)/\\d+(\\.\\d+)?$\", formula):\n",
    "        return 'div_2', re.findall(r\"G(\\d+)\", formula), 0.5\n",
    "    elif re.match(r\"^=\\s*'?.+?!G\\d+/\\d+(\\.\\d+)?$\", formula):\n",
    "        return 'div_1', [re.findall(r\"G(\\d+)\", formula)[0]], 0.5\n",
    "    else:\n",
    "        return 'unknown', [], 0\n"
   ]
  },
  {
   "cell_type": "markdown",
   "id": "91f2f6d2",
   "metadata": {},
   "source": [
    "Les formules sont soit des sommes, soit des divisions, soit des références à des autres cellules dans une autre feuille; donc, il faut qu'on prend tout ça en compte quand on lit les formules."
   ]
  },
  {
   "cell_type": "code",
   "execution_count": 8,
   "id": "5727500e",
   "metadata": {},
   "outputs": [],
   "source": [
    "# Résoudre une valeur de cellule Excel avec formules, récursivement\n",
    "def resolve_cell_value(wb, ws, val, max_depth=5):\n",
    "    sheet_name_map = {'Equipementspartunnel': 'Equipements par tunnel'}\n",
    "    if max_depth <= 0:\n",
    "        return f\"Max recursion depth reached\"\n",
    "    if not isinstance(val, str) or not val.startswith('='):\n",
    "        return val\n",
    "\n",
    "    val_clean = val.lstrip('=').replace(' ', '')\n",
    "\n",
    "    # Gestion des formules SUM\n",
    "    match_sum = re.match(r\"(?i)^SUM\\(([A-Z]+\\d+):([A-Z]+\\d+)\\)$\", val_clean)\n",
    "    if match_sum:\n",
    "        col = re.match(r\"([A-Z]+)\", match_sum.group(1)).group(1)\n",
    "        start_row = int(re.match(r\"[A-Z]+(\\d+)\", match_sum.group(1)).group(1))\n",
    "        end_row = int(re.match(r\"[A-Z]+(\\d+)\", match_sum.group(2)).group(1))\n",
    "        total = 0\n",
    "        for r in range(start_row, end_row + 1):\n",
    "            v = resolve_cell_value(wb, ws, ws[f\"{col}{r}\"].value, max_depth - 1)\n",
    "            try:\n",
    "                total += float(v)\n",
    "            except:\n",
    "                pass\n",
    "        return total\n",
    "\n",
    "    # Gestion des opérations entre cellules (mêmes ou autres feuilles)\n",
    "    op_match = re.match(r\"(?:'([^']+)')?!?([A-Z]+\\d+)([\\+\\-\\/])(?:'([^']+)')?!?([A-Z]+\\d+)\", val_clean)\n",
    "    if op_match:\n",
    "        sheet1, cell1, op, sheet2, cell2 = op_match.groups()\n",
    "        sheet1 = sheet_name_map.get(sheet1, sheet1) if sheet1 else ws.title\n",
    "        sheet2 = sheet_name_map.get(sheet2, sheet2) if sheet2 else ws.title\n",
    "        val1 = resolve_cell_value(wb, wb[sheet1], wb[sheet1][cell1].value, max_depth - 1) if sheet1 in wb.sheetnames else 0\n",
    "        val2 = resolve_cell_value(wb, wb[sheet2], wb[sheet2][cell2].value, max_depth - 1) if sheet2 in wb.sheetnames else 0\n",
    "        try:\n",
    "            val1, val2 = float(val1), float(val2)\n",
    "            return val1 + val2 if op == '+' else val1 - val2 if op == '-' else val1 / val2 if val2 != 0 else 0\n",
    "        except:\n",
    "            return 0\n",
    "\n",
    "    # Référence simple vers une autre cellule d'une autre feuille\n",
    "    match_ref = re.match(r\"'?([^']+)'?!([A-Z]+\\d+)\", val_clean)\n",
    "    if match_ref:\n",
    "        sheet_name, cell_ref = match_ref.groups()\n",
    "        sheet_name = sheet_name_map.get(sheet_name, sheet_name)\n",
    "        if sheet_name in wb.sheetnames:\n",
    "            cell_val = wb[sheet_name][cell_ref].value\n",
    "            return resolve_cell_value(wb, wb[sheet_name], cell_val, max_depth - 1)\n",
    "        else:\n",
    "            return f\"MISSING SHEET {sheet_name}\"\n",
    "\n",
    "    # Références locales avec opérateurs\n",
    "    match_local = re.match(r\"([A-Z]+\\d+)([\\+\\-\\/])([A-Z]+\\d+)\", val_clean)\n",
    "    if match_local:\n",
    "        c1, op, c2 = match_local.groups()\n",
    "        v1 = resolve_cell_value(wb, ws, ws[c1].value, max_depth - 1)\n",
    "        v2 = resolve_cell_value(wb, ws, ws[c2].value, max_depth - 1)\n",
    "        try:\n",
    "            v1, v2 = float(v1), float(v2)\n",
    "            return v1 + v2 if op == '+' else v1 - v2 if op == '-' else v1 / v2 if v2 != 0 else 0\n",
    "        except:\n",
    "            return 0\n",
    "\n",
    "    return val\n"
   ]
  },
  {
   "cell_type": "code",
   "execution_count": 10,
   "id": "64d3bb60",
   "metadata": {},
   "outputs": [],
   "source": [
    "# Extraire les formules et valeurs depuis toutes les feuilles\n",
    "all_rows = []\n",
    "\n",
    "for tunnel in tunnel_sheets:\n",
    "    ws = wb[tunnel]\n",
    "    for row in ws.iter_rows(min_row=3, min_col=1, max_col=7):\n",
    "        marche_cell, g_cell = row[0], row[6]\n",
    "        if marche_cell.value not in marches or g_cell.data_type != 'f':\n",
    "            continue\n",
    "\n",
    "        marche = marche_cell.value\n",
    "        formula = g_cell.value\n",
    "        formula_type, row_refs, coeff = extract_formula_details(formula)\n",
    "        freq_totale_val = resolve_cell_value(wb, ws, row[4].value)\n",
    "        nbr_equipe_val = resolve_cell_value(wb, ws, row[5].value)\n",
    "        try:\n",
    "            nbr_equipe_val = float(nbr_equipe_val)\n",
    "        except:\n",
    "            nbr_equipe_val = 0\n",
    "\n",
    "        if not row_refs:\n",
    "            all_rows.append({\n",
    "                'Tunnel': tunnel,\n",
    "                'Marché': marche,\n",
    "                'Référence prix': '',\n",
    "                'Coefficient': coeff,\n",
    "                'freq_totale': freq_totale_val,\n",
    "                'nbr_equipe': nbr_equipe_val,\n",
    "                'Source Cell': g_cell.coordinate,\n",
    "                'Formula Type': formula_type\n",
    "            })\n",
    "            continue\n",
    "\n",
    "        for i, ref_row in enumerate(row_refs):\n",
    "            ref_prix = get_ref_prix(int(ref_row))\n",
    "            all_rows.append({\n",
    "                'Tunnel': tunnel,\n",
    "                'Marché': marche,\n",
    "                'Référence prix': ref_prix,\n",
    "                'Coefficient': coeff if i == 0 else '',\n",
    "                'freq_totale': freq_totale_val if i == 0 else '',\n",
    "                'nbr_equipe': nbr_equipe_val if i == 0 else '',\n",
    "                'Source Cell': g_cell.coordinate if i == 0 else '',\n",
    "                'Formula Type': formula_type if i == 0 else ''\n",
    "            })"
   ]
  },
  {
   "cell_type": "code",
   "execution_count": 12,
   "id": "48f4aa4e",
   "metadata": {},
   "outputs": [
    {
     "name": "stderr",
     "output_type": "stream",
     "text": [
      "/var/folders/s1/1wg2rzvx4_ndhknnyblvg_j80000gn/T/ipykernel_89643/165483627.py:22: FutureWarning: Not prepending group keys to the result index of transform-like apply. In the future, the group keys will be included in the index, regardless of whether the applied function returns a like-indexed object.\n",
      "To preserve the previous behavior, use\n",
      "\n",
      "\t>>> .groupby(..., group_keys=False)\n",
      "\n",
      "To adopt the future behavior and silence this warning, use \n",
      "\n",
      "\t>>> .groupby(..., group_keys=True)\n",
      "  tunnel_mar_prix_coefficient\n"
     ]
    }
   ],
   "source": [
    "# Créer le DataFrame final\n",
    "tunnel_mar_prix_coefficient = pd.DataFrame(all_rows, columns=[\n",
    "    'Tunnel', 'Marché', 'Référence prix', 'Coefficient',\n",
    "    'freq_totale', 'nbr_equipe', 'Source Cell', 'Formula Type'\n",
    "])\n",
    "\n",
    "# Remplissage vers l'avant (comme forward-fill) des colonnes nécessaires --> ffill()\n",
    "tunnel_mar_prix_coefficient['Source Cell'] = tunnel_mar_prix_coefficient['Source Cell'].replace('', np.nan).ffill()\n",
    "\n",
    "# Remplacer les chaînes vides par NaN\n",
    "cols_to_fill = ['Coefficient', 'freq_totale', 'nbr_equipe']\n",
    "for col in cols_to_fill:\n",
    "    tunnel_mar_prix_coefficient[col] = tunnel_mar_prix_coefficient[col].replace('', np.nan)\n",
    "\n",
    "# Remplir les valeurs manquantes par groupe\n",
    "def fill_group(group):\n",
    "    for col in cols_to_fill:\n",
    "        group[col] = group[col].ffill().bfill()\n",
    "    return group\n",
    "\n",
    "tunnel_mar_prix_coefficient = (\n",
    "    tunnel_mar_prix_coefficient\n",
    "    .groupby(['Tunnel', 'Source Cell'], dropna=False)\n",
    "    .apply(fill_group)\n",
    "    .reset_index(drop=True)\n",
    ")\n"
   ]
  },
  {
   "cell_type": "code",
   "execution_count": null,
   "id": "7ca91010",
   "metadata": {},
   "outputs": [],
   "source": [
    "# Exporter le DataFrame nettoyé en CSV\n",
    "tunnel_mar_prix_coefficient.to_csv('tunMarCoefFreqEq.csv', index=False)\n"
   ]
  }
 ],
 "metadata": {
  "kernelspec": {
   "display_name": "base",
   "language": "python",
   "name": "python3"
  },
  "language_info": {
   "codemirror_mode": {
    "name": "ipython",
    "version": 3
   },
   "file_extension": ".py",
   "mimetype": "text/x-python",
   "name": "python",
   "nbconvert_exporter": "python",
   "pygments_lexer": "ipython3",
   "version": "3.9.18"
  }
 },
 "nbformat": 4,
 "nbformat_minor": 5
}
